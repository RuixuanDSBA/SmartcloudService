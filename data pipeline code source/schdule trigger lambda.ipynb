{
 "cells": [
  {
   "cell_type": "markdown",
   "id": "679a3e7f",
   "metadata": {},
   "source": [
    "# schdule trigger lambda -- loading data from souced s3 bucket to destinated s3 bucket"
   ]
  },
  {
   "cell_type": "code",
   "execution_count": null,
   "id": "2d42b88e",
   "metadata": {},
   "outputs": [],
   "source": [
    "import json\n",
    "import boto3\n",
    "from datetime import datetime, timezone, timedelta\n",
    "import pytz \n",
    "#import os \n",
    "\n",
    "# s3 = boto3.resource('s3')   \n",
    "# bucket = s3.Bucket('test-project-data-source')\n",
    "# dest_bucket = os.environ['DEST_BUCKET']\n",
    "today = datetime.utcnow().replace(tzinfo=timezone.utc) \n",
    "Sydney = timezone(timedelta(hours=11))\n",
    "date_time = today.astimezone(Sydney).strftime(\"%Y-%m-%d %H:%M:%S\")\n",
    "print(date_time)\n",
    "print(\"********************************\")\n",
    "s3_client = boto3.client('s3')\n",
    "Lists = s3_client.list_objects_v2(Bucket='test-project-data-source',Prefix='data/')\n",
    "print(Lists)\n",
    "print(\"********************************\")\n",
    "\n",
    "def lambda_handler(event, context):\n",
    "    contents = Lists['Contents']\n",
    "    src_bucket = Lists['Name']\n",
    "    prefix = contents[0]['Key']\n",
    "    print(contents)\n",
    "    print(\"################\")\n",
    "    print(src_bucket)\n",
    "    print(len(contents))\n",
    "    print(contents[0]['Key'])\n",
    "    for content in contents:\n",
    "        src_key = content['Key']\n",
    "        if src_key!= prefix:\n",
    "            copy_source = {\n",
    "                'Bucket': src_bucket,\n",
    "                'Key': src_key\n",
    "            }\n",
    "            dest_bucket = 'project-imba'   \n",
    "            dest_key = f'data-lake/temporary-raw-data-zone/products_data/{date_time}/' + src_key.split('/')[-1]\n",
    "            print(dest_key)\n",
    "            s3_client.copy(copy_source, dest_bucket, dest_key)\n",
    "\n",
    "print(\"********************************\")\n"
   ]
  }
 ],
 "metadata": {
  "kernelspec": {
   "display_name": "Python 3 (ipykernel)",
   "language": "python",
   "name": "python3"
  },
  "language_info": {
   "codemirror_mode": {
    "name": "ipython",
    "version": 3
   },
   "file_extension": ".py",
   "mimetype": "text/x-python",
   "name": "python",
   "nbconvert_exporter": "python",
   "pygments_lexer": "ipython3",
   "version": "3.9.12"
  }
 },
 "nbformat": 4,
 "nbformat_minor": 5
}
