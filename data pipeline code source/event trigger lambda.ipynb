{
 "cells": [
  {
   "cell_type": "markdown",
   "id": "ef26f64a",
   "metadata": {},
   "source": [
    "# Event trigger lambda -- loading data from sourced S3 bucket to destinated S3 bucket"
   ]
  },
  {
   "cell_type": "code",
   "execution_count": null,
   "id": "dbe488c3",
   "metadata": {},
   "outputs": [],
   "source": [
    "import json\n",
    "import boto3\n",
    "import pandas as pd\n",
    "import numpy as np\n",
    "from datetime import datetime, timezone, timedelta\n",
    "import pytz \n",
    "#import os \n",
    "\n",
    "s3 = boto3.resource('s3')\n",
    "today = datetime.utcnow().replace(tzinfo=timezone.utc) \n",
    "Sydney = timezone(timedelta(hours=11))\n",
    "date_time = today.astimezone(Sydney).strftime(\"%Y-%m-%d %H:%M:%S\")\n",
    "#dest_bucket = os.environ['DEST_BUCKET']\n",
    "\n",
    "def lambda_handler(event, context):\n",
    "    print(event)\n",
    "    records = event['Records']\n",
    "    for record in records:\n",
    "        src_bucket = record['s3']['bucket']['name']\n",
    "        src_key = record['s3']['object']['key']\n",
    "        copy_source = {\n",
    "            'Bucket': src_bucket,\n",
    "            'Key': src_key\n",
    "        }\n",
    "        dest_bucket = 'project-imba'   \n",
    "        dest_key = f'data-lake/temporary-raw-data-zone/orders_data/{date_time}/' + src_key.split('/')[-1]\n",
    "        print(dest_key)\n",
    "        s3.meta.client.copy(copy_source, dest_bucket, dest_key)"
   ]
  }
 ],
 "metadata": {
  "kernelspec": {
   "display_name": "Python 3 (ipykernel)",
   "language": "python",
   "name": "python3"
  },
  "language_info": {
   "codemirror_mode": {
    "name": "ipython",
    "version": 3
   },
   "file_extension": ".py",
   "mimetype": "text/x-python",
   "name": "python",
   "nbconvert_exporter": "python",
   "pygments_lexer": "ipython3",
   "version": "3.9.12"
  }
 },
 "nbformat": 4,
 "nbformat_minor": 5
}
